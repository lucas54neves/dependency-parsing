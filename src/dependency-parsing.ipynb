{
 "cells": [
  {
   "cell_type": "markdown",
   "metadata": {
    "id": "EL15q_pTSpl9"
   },
   "source": [
    "# Instalação das dependências\n"
   ]
  },
  {
   "cell_type": "markdown",
   "metadata": {},
   "source": [
    "Instalação da biblioteca Spacy e download do modelo em português."
   ]
  },
  {
   "cell_type": "code",
   "execution_count": null,
   "metadata": {
    "id": "n7GJSlQwSNLN"
   },
   "outputs": [],
   "source": [
    "!pip install spacy==3.1.2\n",
    "!python -m spacy download pt_core_news_md"
   ]
  },
  {
   "cell_type": "markdown",
   "metadata": {
    "id": "KlWbTEEATILd"
   },
   "source": [
    "# Biblioteca Spacy"
   ]
  },
  {
   "cell_type": "markdown",
   "metadata": {},
   "source": [
    "Importação da biblioteca Spacy e carregamento do modelo em português."
   ]
  },
  {
   "cell_type": "code",
   "execution_count": null,
   "metadata": {
    "id": "3kXA4vkqTUiM"
   },
   "outputs": [],
   "source": [
    "import spacy\n",
    "nlp = spacy.load('pt_core_news_md')"
   ]
  },
  {
   "cell_type": "markdown",
   "metadata": {},
   "source": [
    "Função **triple_extraction** que extrai o sujeito, o verbo e o objeto da frase retornando uma tupla com os resultado ou None para aqueles que não forem encontrados."
   ]
  },
  {
   "cell_type": "code",
   "execution_count": null,
   "metadata": {
    "id": "sllsYFg5U-Cd"
   },
   "outputs": [],
   "source": [
    "def triple_extraction(doc):\n",
    "  data_suject = None\n",
    "  data_verb = None\n",
    "  data_object = None\n",
    "  \n",
    "  for token in doc:\n",
    "    if token.dep_ == 'nsubj':\n",
    "      data_suject = token.text\n",
    "    elif token.pos_ == 'VERB':\n",
    "      data_verb = token.text\n",
    "    elif token.dep_ == 'obj':\n",
    "      data_object = token.text\n",
    "\n",
    "  return (data_suject, data_verb, data_object)"
   ]
  },
  {
   "cell_type": "markdown",
   "metadata": {},
   "source": [
    "Função **display_sentence** que renderiza uma árvore de análise de dependência."
   ]
  },
  {
   "cell_type": "code",
   "execution_count": null,
   "metadata": {
    "id": "FExBdWz8Trnd"
   },
   "outputs": [],
   "source": [
    "def display_sentence(doc):\n",
    "  return spacy.displacy.render(doc, style='dep', jupyter=True, options={'distance': 120})\n"
   ]
  },
  {
   "cell_type": "markdown",
   "metadata": {},
   "source": [
    "Função principal **start** que faz a leitura da entrada do usuário e imprime o resultados da extração."
   ]
  },
  {
   "cell_type": "code",
   "execution_count": null,
   "metadata": {
    "colab": {
     "base_uri": "https://localhost:8080/",
     "height": 295
    },
    "id": "xD5VN3PeUqF-",
    "outputId": "25010901-f289-4ac7-ccbe-9b6444b12456",
    "scrolled": false
   },
   "outputs": [],
   "source": [
    "def start():\n",
    "  sentence = input('Entre com a sentença: ')\n",
    "\n",
    "  doc = nlp(sentence)\n",
    "\n",
    "  display_sentence(doc)\n",
    "\n",
    "  print(triple_extraction(doc))\n",
    "\n",
    "start()"
   ]
  }
 ],
 "metadata": {
  "colab": {
   "collapsed_sections": [],
   "name": "IPLN - REO4.ipynb",
   "provenance": []
  },
  "interpreter": {
   "hash": "8003219c8c57211ee3be347d121ba14ebad7276cdae3d94be72d9e4e17f9edd5"
  },
  "kernelspec": {
   "display_name": "Python 3",
   "language": "python",
   "name": "python3"
  },
  "language_info": {
   "codemirror_mode": {
    "name": "ipython",
    "version": 3
   },
   "file_extension": ".py",
   "mimetype": "text/x-python",
   "name": "python",
   "nbconvert_exporter": "python",
   "pygments_lexer": "ipython3",
   "version": "3.8.8"
  }
 },
 "nbformat": 4,
 "nbformat_minor": 1
}
